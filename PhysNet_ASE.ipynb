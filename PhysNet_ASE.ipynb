{
 "cells": [
  {
   "cell_type": "code",
   "execution_count": 1,
   "metadata": {},
   "outputs": [],
   "source": [
    "# use physnet kernal"
   ]
  },
  {
   "cell_type": "code",
   "execution_count": 2,
   "metadata": {},
   "outputs": [],
   "source": [
    "import NNCalculator\n",
    "from ase import Atoms\n",
    "from ase.optimize import BFGS"
   ]
  },
  {
   "cell_type": "code",
   "execution_count": 3,
   "metadata": {},
   "outputs": [],
   "source": [
    "h2 = Atoms('H2', positions=[[0., 0., 0.], [0., 0., .5]])"
   ]
  },
  {
   "cell_type": "code",
   "execution_count": null,
   "metadata": {},
   "outputs": [],
   "source": [
    "calculator = NNCalculator.NNCalculator(\n",
    "    atoms=h2,\t\t\t\t\t# Atoms object\n",
    "    F=128,                          #dimensionality of feature vector\n",
    "    K=64,                           #number of radial basis functions\n",
    "    num_blocks=5,                   #number of building blocks to be stacked\n",
    "    num_residual_atomic=2,          #number of residual layers for atomic refinements of feature vector\n",
    "    num_residual_interaction=3,     #number of residual layers for refinement of message vector\n",
    "    num_residual_output=1,          #number of residual layers for the output blocks\n",
    "    checkpoint=\"20221124213400_WHOoW2LL_F128K64b5a2i3o1cut10.0e1d1l20.0nh0.01keep1.0/best/best_model.ckpt-9960000\"\t# Define just the name tag without .data-?????-of-????? prefix\n",
    ")\n",
    "\n",
    "#h2,calc() gives problems: use set_calculator even if deprecated\n",
    "h2.set_calculator(calculator)"
   ]
  },
  {
   "cell_type": "code",
   "execution_count": 5,
   "metadata": {},
   "outputs": [
    {
     "name": "stdout",
     "output_type": "stream",
     "text": [
      "Begin minimizing...\n",
      "      Step     Time          Energy         fmax\n",
      "BFGS:    0 11:56:20       -1.743581       45.8769\n",
      "BFGS:    1 11:56:20       -4.258402        3.6197\n",
      "BFGS:    2 11:56:20       -4.359923        3.2841\n",
      "BFGS:    3 11:56:20       -4.239459        1.6602\n",
      "BFGS:    4 11:56:20       -4.536389        2.6200\n",
      "BFGS:    5 11:56:20       -4.101325        3.5591\n",
      "BFGS:    6 11:56:20       -4.561839        1.6827\n",
      "BFGS:    7 11:56:20       -4.459169        3.6607\n",
      "BFGS:    8 11:56:20       -4.606974        0.3712\n",
      "BFGS:    9 11:56:20       -4.608839        0.0622\n",
      "BFGS:   10 11:56:20       -4.608891        0.0021\n",
      "BFGS:   11 11:56:20       -4.608891        0.0000\n",
      "\n"
     ]
    }
   ],
   "source": [
    "print(\"Begin minimizing...\")\n",
    "# https://wiki.fysik.dtu.dk/ase/ase/optimize.html#bfgs\n",
    "opt = BFGS(h2)\n",
    "opt.run(fmax=0.001)\n",
    "print()"
   ]
  },
  {
   "cell_type": "code",
   "execution_count": 7,
   "metadata": {},
   "outputs": [
    {
     "name": "stdout",
     "output_type": "stream",
     "text": [
      "[-4.608891]\n",
      "[[0.         0.73895411]\n",
      " [0.73895411 0.        ]]\n"
     ]
    }
   ],
   "source": [
    "# TODO time to optimization\n",
    "\n",
    "print(h2.get_potential_energy())\n",
    "print(h2.get_all_distances())"
   ]
  }
 ],
 "metadata": {
  "kernelspec": {
   "display_name": "physnet",
   "language": "python",
   "name": "python3"
  },
  "language_info": {
   "codemirror_mode": {
    "name": "ipython",
    "version": 3
   },
   "file_extension": ".py",
   "mimetype": "text/x-python",
   "name": "python",
   "nbconvert_exporter": "python",
   "pygments_lexer": "ipython3",
   "version": "3.6.13"
  },
  "orig_nbformat": 4
 },
 "nbformat": 4,
 "nbformat_minor": 2
}
