{
 "cells": [
  {
   "cell_type": "code",
   "execution_count": 1,
   "metadata": {},
   "outputs": [],
   "source": [
    "# use ANI kernal"
   ]
  },
  {
   "cell_type": "code",
   "execution_count": 2,
   "metadata": {},
   "outputs": [
    {
     "name": "stderr",
     "output_type": "stream",
     "text": [
      "/home/wahmed/.local/lib/python3.8/site-packages/tqdm/auto.py:22: TqdmWarning: IProgress not found. Please update jupyter and ipywidgets. See https://ipywidgets.readthedocs.io/en/stable/user_install.html\n",
      "  from .autonotebook import tqdm as notebook_tqdm\n"
     ]
    }
   ],
   "source": [
    "from ase import Atoms\n",
    "from ase.optimize import BFGS\n",
    "import torchani"
   ]
  },
  {
   "cell_type": "code",
   "execution_count": 3,
   "metadata": {},
   "outputs": [],
   "source": [
    "h2 = Atoms('H2', positions=[[0., 0., 0.], [0., 0., .5]])"
   ]
  },
  {
   "cell_type": "code",
   "execution_count": 4,
   "metadata": {},
   "outputs": [],
   "source": [
    "calculator = torchani.models.ANI2x().ase()\n",
    "\n",
    "#h2,calc() gives problems: use set_calculator even if deprecated\n",
    "h2.set_calculator(calculator)"
   ]
  },
  {
   "cell_type": "code",
   "execution_count": 5,
   "metadata": {},
   "outputs": [
    {
     "name": "stdout",
     "output_type": "stream",
     "text": [
      "Begin minimizing...\n",
      "      Step     Time          Energy         fmax\n",
      "BFGS:    0 11:55:41      -27.854530        4.2693\n",
      "BFGS:    1 11:55:41      -28.981607       14.2971\n",
      "BFGS:    2 11:55:41      -30.759822        0.0297\n",
      "BFGS:    3 11:55:41      -30.759826        0.0231\n",
      "BFGS:    4 11:55:41      -30.759827        0.0000\n",
      "\n"
     ]
    },
    {
     "name": "stderr",
     "output_type": "stream",
     "text": [
      "/data/miniconda3/envs/ANI/lib/python3.8/site-packages/torchani/ase.py:50: UserWarning: Creating a tensor from a list of numpy.ndarrays is extremely slow. Please consider converting the list to a single numpy.ndarray with numpy.array() before converting to a tensor. (Triggered internally at ../torch/csrc/utils/tensor_new.cpp:230.)\n",
      "  cell = torch.tensor(self.atoms.get_cell(complete=True),\n"
     ]
    }
   ],
   "source": [
    "print(\"Begin minimizing...\")\n",
    "# https://wiki.fysik.dtu.dk/ase/ase/optimize.html#bfgs\n",
    "opt = BFGS(h2)\n",
    "opt.run(fmax=0.001)\n",
    "print()"
   ]
  },
  {
   "cell_type": "code",
   "execution_count": 8,
   "metadata": {},
   "outputs": [
    {
     "name": "stdout",
     "output_type": "stream",
     "text": [
      "-30.75982719279863\n",
      "[[0.         0.79609286]\n",
      " [0.79609286 0.        ]]\n"
     ]
    }
   ],
   "source": [
    "# TODO time to optimization\n",
    "\n",
    "print(h2.get_potential_energy())\n",
    "print(h2.get_all_distances())"
   ]
  }
 ],
 "metadata": {
  "kernelspec": {
   "display_name": "physnet",
   "language": "python",
   "name": "python3"
  },
  "language_info": {
   "codemirror_mode": {
    "name": "ipython",
    "version": 3
   },
   "file_extension": ".py",
   "mimetype": "text/x-python",
   "name": "python",
   "nbconvert_exporter": "python",
   "pygments_lexer": "ipython3",
   "version": "3.8.16"
  },
  "orig_nbformat": 4
 },
 "nbformat": 4,
 "nbformat_minor": 2
}
